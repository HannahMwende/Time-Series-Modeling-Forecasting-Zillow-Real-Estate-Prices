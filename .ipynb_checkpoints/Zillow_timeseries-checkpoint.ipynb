{
 "cells": [
  {
   "cell_type": "markdown",
   "metadata": {
    "colab_type": "text",
    "id": "view-in-github"
   },
   "source": [
    "<a href=\"https://colab.research.google.com/github/VivianKingasia/Time-Series-Modeling-Forecasting-Zillow-Real-Estate-Prices/blob/main/Time_Series_Modeling_Forecasting_Zillow_Real_Estate_Prices.ipynb\" target=\"_parent\"><img src=\"https://colab.research.google.com/assets/colab-badge.svg\" alt=\"Open In Colab\"/></a>"
   ]
  },
  {
   "cell_type": "markdown",
   "metadata": {
    "id": "iMSdml1qVeXT"
   },
   "source": [
    "# **Time Series Analysis- Forecasting Zillow Real Estate Prices**"
   ]
  },
  {
   "cell_type": "markdown",
   "metadata": {
    "id": "WWT8gR1wEcQ0"
   },
   "source": [
    "### Authors\n",
    "\n",
    " - Keith Maina\n",
    " - Vivian Kingasia\n",
    " - Ann Maureen\n",
    " - Brian Kigen\n",
    " - Charity Gakuru\n",
    " - Hannah Mutua\n",
    " - Mercy Ngila\n",
    " - Steve Troy"
   ]
  },
  {
   "cell_type": "markdown",
   "metadata": {
    "id": "uPn8k9oWVWAV"
   },
   "source": [
    "# 1. Introduction"
   ]
  },
  {
   "cell_type": "markdown",
   "metadata": {
    "id": "S3wiRBuSVWAW"
   },
   "source": [
    "##  1.1. Business Understanding"
   ]
  },
  {
   "cell_type": "markdown",
   "metadata": {
    "id": "oCZlGmvWVWAX"
   },
   "source": [
    "### 1.1.1. Introduction\n",
    "In 2021, the real estate industry in the United States was valued at USD 3.69 trillion and was expected to experience a 5.2% compound interest growth for the period between 2022 and 2030. This potential predicted growth of the industry, coupled with rising population rates in the US create a huge lucrative opportunity potential for real estate investors to make huge profits provided they <b>manage risk</b> and <b>make the right investments</b>.<br>\n",
    "According to <a href= 'https://www.peoplescapitalgroup.com/average-roi-real-estate/'>People's Capital Group</a>, residential properties have an average annual return of 10.6% and commercial properties have a 9.5% average return."
   ]
  },
  {
   "cell_type": "markdown",
   "metadata": {
    "id": "F9ZiZKd5VWAZ"
   },
   "source": [
    "### 1.1.2. Problem Statement\n",
    "The stakeholder in this project is a real estate investment firm that is looking to construct residential homes in top five locations in the US that would provide a high return on their investment. This project therefore is a time series analysis on a Zillow dataset on various locations around the United States.<br><br>\n",
    "\n",
    "The project will involve analyzing the house sale prices from 1996 to 2018 to determine the top five locations with the highest Return on Investment (ROI).<br>\n",
    "The stakeholder is also risk-averse and therefore the project involves recommending locations with low price volatility which can easily be predicted with the model.<br>\n",
    "\n",
    "### 1.1.3. Metric of Success\n",
    "\n",
    "In our time series analysis, the metric of success to determine model viability will be RMSE and the model chosen will be the one with the lowest RMSE metric.\n",
    "\n",
    "### 1.1.4. Project Scope\n",
    "The primary goal of this project will be to conduct a time series analysis to predict the five best locations to invest in based on ROI."
   ]
  },
  {
   "cell_type": "markdown",
   "metadata": {
    "id": "W1yReLS5VWAc"
   },
   "source": [
    "### 1.1.5. Problem Questions\n",
    "- What are the five best locations to invest in around the US?\n",
    "- What makes these locations so lucrative?\n",
    "- Does urbanization affect the prices of houses?\n",
    "- How long does it take to cash out on the investment?\n",
    "- How risky <b>(measured as coefficient of variation)</b> is the investment?\n",
    "- When are the prices most volatile <b>(measured as frequency of price change in a small timeframe)</b> and \n",
    "- where are the locations of the houses with most volatility?\n",
    "- How much profit can investors potentially make based on our predictions?\n"
   ]
  },
  {
   "cell_type": "markdown",
   "metadata": {
    "id": "mZ8edEunVWAe"
   },
   "source": [
    "### 1.1.6. Project Objectives\n",
    "1. Provide effective real estate investment recommendations to the stakeholder.\n",
    "2. Increase the real estate investor’s customer base.\n"
   ]
  },
  {
   "cell_type": "markdown",
   "metadata": {
    "id": "Iol1M3Rzh8ZQ"
   },
   "source": [
    "\n",
    "### 1.1.7.  Defining the Experimental Design\n",
    "\n",
    "- Import the relevant libraries used in the analysis.\n",
    "\n",
    "- Load dataset\n",
    "\n",
    "- Read and explore the dataset we will use for our project.\n",
    "\n",
    "- Data Cleaning & Preparation\n",
    "\n",
    "- Exploratory Data Analysis (EDA)\n",
    "\n",
    "- Data Pre-processing\n",
    "\n",
    "- Modelling & Evaluation\n",
    "\n",
    "- Challenging the model\n",
    "\n",
    "- Conclusion\n",
    "\n",
    "- Recommendations\n"
   ]
  },
  {
   "cell_type": "markdown",
   "metadata": {
    "id": "pAXY5-1ZKzM1"
   },
   "source": [
    "# 2. Data Understanding"
   ]
  },
  {
   "cell_type": "markdown",
   "metadata": {
    "id": "EmK53auFKzM2"
   },
   "source": [
    "The data used in this project was sampled from different states in USA. It contains historic median house prices from the period between April 1996 to April 2018 (22 Years).\n",
    "The data was obtained from [zillow website](https://www.zillow.com/research/data/).\n",
    "\n",
    "The dataset has 14723 rows and  272 columns.\n",
    "\n",
    "Out of the 272 columns, there are 4 categorical columns and the rest are numerical.\n",
    "\n",
    "Column names and description:\n",
    "- RegionID - Unique region identifier\n",
    "- RegionName - Names of the Regions (Zipcodes)\n",
    "- City - City names for the regions\n",
    "- State - Names of the states\n",
    "- Metro - Names of metropolitan areas\n",
    "- County Name - Names of counties\n",
    "- Size Rank - Rank of Zipcodes by urbanization\n",
    "- Date Columns (265 Columns) - Meidan house prices across the years \n"
   ]
  },
  {
   "cell_type": "markdown",
   "metadata": {
    "id": "sDqzYmRHVWAi"
   },
   "source": [
    "# 3. Data Preparation"
   ]
  },
  {
   "cell_type": "markdown",
   "metadata": {
    "id": "nrLUymldVWAj"
   },
   "source": [
    "### 3.1. Importing Libraries"
   ]
  },
  {
   "cell_type": "markdown",
   "metadata": {
    "id": "5rXlggkJKzM7"
   },
   "source": [
    "### 3.2. Loading Data"
   ]
  },
  {
   "cell_type": "code",
   "execution_count": 1,
   "metadata": {
    "colab": {
     "base_uri": "https://localhost:8080/",
     "height": 1000,
     "resources": {
      "http://localhost:8080/nbextensions/google.colab/files.js": {
       "data": "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",
       "headers": [
        [
         "content-type",
         "application/javascript"
        ]
       ],
       "ok": true,
       "status": 200,
       "status_text": ""
      }
     }
    },
    "id": "ZNifCw0BRvGf",
    "outputId": "a74f81bf-f1f6-441b-c939-4c37297c6653"
   },
   "outputs": [],
   "source": [
    "# loading data from local drive\n",
    "\n",
    "# from google.colab import files\n",
    "# files.upload()"
   ]
  },
  {
   "cell_type": "code",
   "execution_count": 2,
   "metadata": {
    "id": "Lgw8k5pkVWAk"
   },
   "outputs": [],
   "source": [
    "# importing relevant libraries\n",
    "\n",
    "# Analysis libraries\n",
    "import pandas as pd \n",
    "import numpy as np\n",
    "\n",
    "# Visualization libraries\n",
    "import matplotlib.pyplot as plt\n",
    "%matplotlib inline\n",
    "import seaborn as sns\n",
    "\n",
    "# Warning libraries\n",
    "import warnings\n",
    "warnings.simplefilter(\"ignore\")\n",
    "\n",
    "# Modelling libraries\n",
    "from statsmodels.graphics.tsaplots import plot_pacf\n",
    "from statsmodels.graphics.tsaplots import plot_acf\n",
    "from statsmodels.tsa.arima.model import ARIMA\n",
    "import statsmodels.api as sm\n",
    "\n",
    "# Metrics Libraries\n",
    "from sklearn.metrics import mean_squared_error \n",
    "from sklearn.model_selection import train_test_split"
   ]
  },
  {
   "cell_type": "code",
   "execution_count": 3,
   "metadata": {
    "colab": {
     "base_uri": "https://localhost:8080/",
     "height": 322
    },
    "id": "8Sh38cOuVWAm",
    "outputId": "373c3730-9c69-4342-e9cc-365c9543d25c"
   },
   "outputs": [
    {
     "data": {
      "text/html": [
       "<div>\n",
       "<style scoped>\n",
       "    .dataframe tbody tr th:only-of-type {\n",
       "        vertical-align: middle;\n",
       "    }\n",
       "\n",
       "    .dataframe tbody tr th {\n",
       "        vertical-align: top;\n",
       "    }\n",
       "\n",
       "    .dataframe thead th {\n",
       "        text-align: right;\n",
       "    }\n",
       "</style>\n",
       "<table border=\"1\" class=\"dataframe\">\n",
       "  <thead>\n",
       "    <tr style=\"text-align: right;\">\n",
       "      <th></th>\n",
       "      <th>RegionID</th>\n",
       "      <th>RegionName</th>\n",
       "      <th>City</th>\n",
       "      <th>State</th>\n",
       "      <th>Metro</th>\n",
       "      <th>CountyName</th>\n",
       "      <th>SizeRank</th>\n",
       "      <th>1996-04</th>\n",
       "      <th>1996-05</th>\n",
       "      <th>1996-06</th>\n",
       "      <th>...</th>\n",
       "      <th>2017-07</th>\n",
       "      <th>2017-08</th>\n",
       "      <th>2017-09</th>\n",
       "      <th>2017-10</th>\n",
       "      <th>2017-11</th>\n",
       "      <th>2017-12</th>\n",
       "      <th>2018-01</th>\n",
       "      <th>2018-02</th>\n",
       "      <th>2018-03</th>\n",
       "      <th>2018-04</th>\n",
       "    </tr>\n",
       "  </thead>\n",
       "  <tbody>\n",
       "    <tr>\n",
       "      <th>0</th>\n",
       "      <td>84654</td>\n",
       "      <td>60657</td>\n",
       "      <td>Chicago</td>\n",
       "      <td>IL</td>\n",
       "      <td>Chicago</td>\n",
       "      <td>Cook</td>\n",
       "      <td>1</td>\n",
       "      <td>334200.0</td>\n",
       "      <td>335400.0</td>\n",
       "      <td>336500.0</td>\n",
       "      <td>...</td>\n",
       "      <td>1005500</td>\n",
       "      <td>1007500</td>\n",
       "      <td>1007800</td>\n",
       "      <td>1009600</td>\n",
       "      <td>1013300</td>\n",
       "      <td>1018700</td>\n",
       "      <td>1024400</td>\n",
       "      <td>1030700</td>\n",
       "      <td>1033800</td>\n",
       "      <td>1030600</td>\n",
       "    </tr>\n",
       "    <tr>\n",
       "      <th>1</th>\n",
       "      <td>90668</td>\n",
       "      <td>75070</td>\n",
       "      <td>McKinney</td>\n",
       "      <td>TX</td>\n",
       "      <td>Dallas-Fort Worth</td>\n",
       "      <td>Collin</td>\n",
       "      <td>2</td>\n",
       "      <td>235700.0</td>\n",
       "      <td>236900.0</td>\n",
       "      <td>236700.0</td>\n",
       "      <td>...</td>\n",
       "      <td>308000</td>\n",
       "      <td>310000</td>\n",
       "      <td>312500</td>\n",
       "      <td>314100</td>\n",
       "      <td>315000</td>\n",
       "      <td>316600</td>\n",
       "      <td>318100</td>\n",
       "      <td>319600</td>\n",
       "      <td>321100</td>\n",
       "      <td>321800</td>\n",
       "    </tr>\n",
       "    <tr>\n",
       "      <th>2</th>\n",
       "      <td>91982</td>\n",
       "      <td>77494</td>\n",
       "      <td>Katy</td>\n",
       "      <td>TX</td>\n",
       "      <td>Houston</td>\n",
       "      <td>Harris</td>\n",
       "      <td>3</td>\n",
       "      <td>210400.0</td>\n",
       "      <td>212200.0</td>\n",
       "      <td>212200.0</td>\n",
       "      <td>...</td>\n",
       "      <td>321000</td>\n",
       "      <td>320600</td>\n",
       "      <td>320200</td>\n",
       "      <td>320400</td>\n",
       "      <td>320800</td>\n",
       "      <td>321200</td>\n",
       "      <td>321200</td>\n",
       "      <td>323000</td>\n",
       "      <td>326900</td>\n",
       "      <td>329900</td>\n",
       "    </tr>\n",
       "    <tr>\n",
       "      <th>3</th>\n",
       "      <td>84616</td>\n",
       "      <td>60614</td>\n",
       "      <td>Chicago</td>\n",
       "      <td>IL</td>\n",
       "      <td>Chicago</td>\n",
       "      <td>Cook</td>\n",
       "      <td>4</td>\n",
       "      <td>498100.0</td>\n",
       "      <td>500900.0</td>\n",
       "      <td>503100.0</td>\n",
       "      <td>...</td>\n",
       "      <td>1289800</td>\n",
       "      <td>1287700</td>\n",
       "      <td>1287400</td>\n",
       "      <td>1291500</td>\n",
       "      <td>1296600</td>\n",
       "      <td>1299000</td>\n",
       "      <td>1302700</td>\n",
       "      <td>1306400</td>\n",
       "      <td>1308500</td>\n",
       "      <td>1307000</td>\n",
       "    </tr>\n",
       "    <tr>\n",
       "      <th>4</th>\n",
       "      <td>93144</td>\n",
       "      <td>79936</td>\n",
       "      <td>El Paso</td>\n",
       "      <td>TX</td>\n",
       "      <td>El Paso</td>\n",
       "      <td>El Paso</td>\n",
       "      <td>5</td>\n",
       "      <td>77300.0</td>\n",
       "      <td>77300.0</td>\n",
       "      <td>77300.0</td>\n",
       "      <td>...</td>\n",
       "      <td>119100</td>\n",
       "      <td>119400</td>\n",
       "      <td>120000</td>\n",
       "      <td>120300</td>\n",
       "      <td>120300</td>\n",
       "      <td>120300</td>\n",
       "      <td>120300</td>\n",
       "      <td>120500</td>\n",
       "      <td>121000</td>\n",
       "      <td>121500</td>\n",
       "    </tr>\n",
       "  </tbody>\n",
       "</table>\n",
       "<p>5 rows × 272 columns</p>\n",
       "</div>"
      ],
      "text/plain": [
       "   RegionID  RegionName      City State              Metro CountyName  \\\n",
       "0     84654       60657   Chicago    IL            Chicago       Cook   \n",
       "1     90668       75070  McKinney    TX  Dallas-Fort Worth     Collin   \n",
       "2     91982       77494      Katy    TX            Houston     Harris   \n",
       "3     84616       60614   Chicago    IL            Chicago       Cook   \n",
       "4     93144       79936   El Paso    TX            El Paso    El Paso   \n",
       "\n",
       "   SizeRank   1996-04   1996-05   1996-06  ...  2017-07  2017-08  2017-09  \\\n",
       "0         1  334200.0  335400.0  336500.0  ...  1005500  1007500  1007800   \n",
       "1         2  235700.0  236900.0  236700.0  ...   308000   310000   312500   \n",
       "2         3  210400.0  212200.0  212200.0  ...   321000   320600   320200   \n",
       "3         4  498100.0  500900.0  503100.0  ...  1289800  1287700  1287400   \n",
       "4         5   77300.0   77300.0   77300.0  ...   119100   119400   120000   \n",
       "\n",
       "   2017-10  2017-11  2017-12  2018-01  2018-02  2018-03  2018-04  \n",
       "0  1009600  1013300  1018700  1024400  1030700  1033800  1030600  \n",
       "1   314100   315000   316600   318100   319600   321100   321800  \n",
       "2   320400   320800   321200   321200   323000   326900   329900  \n",
       "3  1291500  1296600  1299000  1302700  1306400  1308500  1307000  \n",
       "4   120300   120300   120300   120300   120500   121000   121500  \n",
       "\n",
       "[5 rows x 272 columns]"
      ]
     },
     "execution_count": 3,
     "metadata": {},
     "output_type": "execute_result"
    }
   ],
   "source": [
    "# loading the dataset\n",
    "df = pd.read_csv('zillow_data.csv')\n",
    "df.head()"
   ]
  },
  {
   "cell_type": "code",
   "execution_count": 4,
   "metadata": {
    "colab": {
     "base_uri": "https://localhost:8080/"
    },
    "id": "wyWv1s75VWAo",
    "outputId": "613c86b9-1861-4302-947a-bc41c06461a3"
   },
   "outputs": [
    {
     "data": {
      "text/plain": [
       "Index(['RegionID', 'RegionName', 'City', 'State', 'Metro', 'CountyName',\n",
       "       'SizeRank', '1996-04', '1996-05', '1996-06',\n",
       "       ...\n",
       "       '2017-07', '2017-08', '2017-09', '2017-10', '2017-11', '2017-12',\n",
       "       '2018-01', '2018-02', '2018-03', '2018-04'],\n",
       "      dtype='object', length=272)"
      ]
     },
     "execution_count": 4,
     "metadata": {},
     "output_type": "execute_result"
    }
   ],
   "source": [
    "# getting the columns in the dataset\n",
    "df.columns"
   ]
  },
  {
   "cell_type": "markdown",
   "metadata": {
    "id": "1NIInC2cVWAp"
   },
   "source": [
    "### 3.3. Data Cleaning"
   ]
  },
  {
   "cell_type": "markdown",
   "metadata": {
    "id": "xQFe9l00VWAs"
   },
   "source": [
    "####  3.2.1 Validity\n",
    "- Checking for validity of data.\n",
    "- Dropping any unnecessary columns.\n",
    "- Renaming columns.\n",
    "- Creating columns that may be necessary."
   ]
  },
  {
   "cell_type": "markdown",
   "metadata": {
    "id": "mLhQWMuiVWAs"
   },
   "source": [
    "The RegionName contains zipcode data. It will be renamed to Zipcode.\n"
   ]
  },
  {
   "cell_type": "code",
   "execution_count": 5,
   "metadata": {
    "colab": {
     "base_uri": "https://localhost:8080/",
     "height": 357
    },
    "id": "qPqUhXEUVWAt",
    "outputId": "a6d404c0-0142-49f2-d007-3ec80467a601"
   },
   "outputs": [
    {
     "data": {
      "text/html": [
       "<div>\n",
       "<style scoped>\n",
       "    .dataframe tbody tr th:only-of-type {\n",
       "        vertical-align: middle;\n",
       "    }\n",
       "\n",
       "    .dataframe tbody tr th {\n",
       "        vertical-align: top;\n",
       "    }\n",
       "\n",
       "    .dataframe thead th {\n",
       "        text-align: right;\n",
       "    }\n",
       "</style>\n",
       "<table border=\"1\" class=\"dataframe\">\n",
       "  <thead>\n",
       "    <tr style=\"text-align: right;\">\n",
       "      <th></th>\n",
       "      <th>RegionID</th>\n",
       "      <th>Zipcode</th>\n",
       "      <th>City</th>\n",
       "      <th>State</th>\n",
       "      <th>Metro</th>\n",
       "      <th>CountyName</th>\n",
       "      <th>SizeRank</th>\n",
       "      <th>1996-04</th>\n",
       "      <th>1996-05</th>\n",
       "      <th>1996-06</th>\n",
       "      <th>...</th>\n",
       "      <th>2017-07</th>\n",
       "      <th>2017-08</th>\n",
       "      <th>2017-09</th>\n",
       "      <th>2017-10</th>\n",
       "      <th>2017-11</th>\n",
       "      <th>2017-12</th>\n",
       "      <th>2018-01</th>\n",
       "      <th>2018-02</th>\n",
       "      <th>2018-03</th>\n",
       "      <th>2018-04</th>\n",
       "    </tr>\n",
       "  </thead>\n",
       "  <tbody>\n",
       "    <tr>\n",
       "      <th>14718</th>\n",
       "      <td>58333</td>\n",
       "      <td>1338</td>\n",
       "      <td>Ashfield</td>\n",
       "      <td>MA</td>\n",
       "      <td>Greenfield Town</td>\n",
       "      <td>Franklin</td>\n",
       "      <td>14719</td>\n",
       "      <td>94600.0</td>\n",
       "      <td>94300.0</td>\n",
       "      <td>94000.0</td>\n",
       "      <td>...</td>\n",
       "      <td>216800</td>\n",
       "      <td>217700</td>\n",
       "      <td>218600</td>\n",
       "      <td>218500</td>\n",
       "      <td>218100</td>\n",
       "      <td>216400</td>\n",
       "      <td>213100</td>\n",
       "      <td>209800</td>\n",
       "      <td>209200</td>\n",
       "      <td>209300</td>\n",
       "    </tr>\n",
       "    <tr>\n",
       "      <th>14719</th>\n",
       "      <td>59107</td>\n",
       "      <td>3293</td>\n",
       "      <td>Woodstock</td>\n",
       "      <td>NH</td>\n",
       "      <td>Claremont</td>\n",
       "      <td>Grafton</td>\n",
       "      <td>14720</td>\n",
       "      <td>92700.0</td>\n",
       "      <td>92500.0</td>\n",
       "      <td>92400.0</td>\n",
       "      <td>...</td>\n",
       "      <td>202100</td>\n",
       "      <td>208400</td>\n",
       "      <td>212200</td>\n",
       "      <td>215200</td>\n",
       "      <td>214300</td>\n",
       "      <td>213100</td>\n",
       "      <td>213700</td>\n",
       "      <td>218300</td>\n",
       "      <td>222700</td>\n",
       "      <td>225800</td>\n",
       "    </tr>\n",
       "    <tr>\n",
       "      <th>14720</th>\n",
       "      <td>75672</td>\n",
       "      <td>40404</td>\n",
       "      <td>Berea</td>\n",
       "      <td>KY</td>\n",
       "      <td>Richmond</td>\n",
       "      <td>Madison</td>\n",
       "      <td>14721</td>\n",
       "      <td>57100.0</td>\n",
       "      <td>57300.0</td>\n",
       "      <td>57500.0</td>\n",
       "      <td>...</td>\n",
       "      <td>121800</td>\n",
       "      <td>122800</td>\n",
       "      <td>124600</td>\n",
       "      <td>126700</td>\n",
       "      <td>128800</td>\n",
       "      <td>130600</td>\n",
       "      <td>131700</td>\n",
       "      <td>132500</td>\n",
       "      <td>133000</td>\n",
       "      <td>133400</td>\n",
       "    </tr>\n",
       "    <tr>\n",
       "      <th>14721</th>\n",
       "      <td>93733</td>\n",
       "      <td>81225</td>\n",
       "      <td>Mount Crested Butte</td>\n",
       "      <td>CO</td>\n",
       "      <td>NaN</td>\n",
       "      <td>Gunnison</td>\n",
       "      <td>14722</td>\n",
       "      <td>191100.0</td>\n",
       "      <td>192400.0</td>\n",
       "      <td>193700.0</td>\n",
       "      <td>...</td>\n",
       "      <td>662800</td>\n",
       "      <td>671200</td>\n",
       "      <td>682400</td>\n",
       "      <td>695600</td>\n",
       "      <td>695500</td>\n",
       "      <td>694700</td>\n",
       "      <td>706400</td>\n",
       "      <td>705300</td>\n",
       "      <td>681500</td>\n",
       "      <td>664400</td>\n",
       "    </tr>\n",
       "    <tr>\n",
       "      <th>14722</th>\n",
       "      <td>95851</td>\n",
       "      <td>89155</td>\n",
       "      <td>Mesquite</td>\n",
       "      <td>NV</td>\n",
       "      <td>Las Vegas</td>\n",
       "      <td>Clark</td>\n",
       "      <td>14723</td>\n",
       "      <td>176400.0</td>\n",
       "      <td>176300.0</td>\n",
       "      <td>176100.0</td>\n",
       "      <td>...</td>\n",
       "      <td>333800</td>\n",
       "      <td>336400</td>\n",
       "      <td>339700</td>\n",
       "      <td>343800</td>\n",
       "      <td>346800</td>\n",
       "      <td>348900</td>\n",
       "      <td>350400</td>\n",
       "      <td>353000</td>\n",
       "      <td>356000</td>\n",
       "      <td>357200</td>\n",
       "    </tr>\n",
       "  </tbody>\n",
       "</table>\n",
       "<p>5 rows × 272 columns</p>\n",
       "</div>"
      ],
      "text/plain": [
       "       RegionID  Zipcode                 City State            Metro  \\\n",
       "14718     58333     1338             Ashfield    MA  Greenfield Town   \n",
       "14719     59107     3293            Woodstock    NH        Claremont   \n",
       "14720     75672    40404                Berea    KY         Richmond   \n",
       "14721     93733    81225  Mount Crested Butte    CO              NaN   \n",
       "14722     95851    89155             Mesquite    NV        Las Vegas   \n",
       "\n",
       "      CountyName  SizeRank   1996-04   1996-05   1996-06  ...  2017-07  \\\n",
       "14718   Franklin     14719   94600.0   94300.0   94000.0  ...   216800   \n",
       "14719    Grafton     14720   92700.0   92500.0   92400.0  ...   202100   \n",
       "14720    Madison     14721   57100.0   57300.0   57500.0  ...   121800   \n",
       "14721   Gunnison     14722  191100.0  192400.0  193700.0  ...   662800   \n",
       "14722      Clark     14723  176400.0  176300.0  176100.0  ...   333800   \n",
       "\n",
       "       2017-08  2017-09  2017-10  2017-11  2017-12  2018-01  2018-02  2018-03  \\\n",
       "14718   217700   218600   218500   218100   216400   213100   209800   209200   \n",
       "14719   208400   212200   215200   214300   213100   213700   218300   222700   \n",
       "14720   122800   124600   126700   128800   130600   131700   132500   133000   \n",
       "14721   671200   682400   695600   695500   694700   706400   705300   681500   \n",
       "14722   336400   339700   343800   346800   348900   350400   353000   356000   \n",
       "\n",
       "       2018-04  \n",
       "14718   209300  \n",
       "14719   225800  \n",
       "14720   133400  \n",
       "14721   664400  \n",
       "14722   357200  \n",
       "\n",
       "[5 rows x 272 columns]"
      ]
     },
     "execution_count": 5,
     "metadata": {},
     "output_type": "execute_result"
    }
   ],
   "source": [
    "# Rename RegionName to zipcode\n",
    "\n",
    "df = df.rename(columns={'RegionName': 'Zipcode'})\n",
    "df.tail()"
   ]
  },
  {
   "cell_type": "markdown",
   "metadata": {
    "id": "hL_1sTIDVWAt"
   },
   "source": [
    "### 2.2.2 Completeness \n",
    "- Handling the missing values in the dataframe. "
   ]
  },
  {
   "cell_type": "code",
   "execution_count": 6,
   "metadata": {
    "colab": {
     "base_uri": "https://localhost:8080/"
    },
    "id": "PS9y-0MyVWAu",
    "outputId": "025d9ad0-2add-40d6-b690-883dce1791af"
   },
   "outputs": [
    {
     "name": "stdout",
     "output_type": "stream",
     "text": [
      "The data has 157934 missing values\n"
     ]
    }
   ],
   "source": [
    "# Check for null values \n",
    "\n",
    "print(f'The data has {df.isna().sum().sum()} missing values')"
   ]
  },
  {
   "cell_type": "code",
   "execution_count": 7,
   "metadata": {
    "id": "t1gwKOp2KzM_"
   },
   "outputs": [],
   "source": [
    "# Define a function to explore missing data\n",
    "def missing_data(df):\n",
    "    missing_data = df.isna().sum()\n",
    "    missing_data = missing_data[missing_data>0]\n",
    "    return missing_data.to_frame()"
   ]
  },
  {
   "cell_type": "code",
   "execution_count": 8,
   "metadata": {
    "id": "VkS6wECDKzM_"
   },
   "outputs": [],
   "source": [
    "# expanding the number of visible columns\n",
    "pd.set_option('display.max_columns', None)"
   ]
  },
  {
   "cell_type": "code",
   "execution_count": 9,
   "metadata": {
    "colab": {
     "base_uri": "https://localhost:8080/",
     "height": 162
    },
    "id": "sbP9JGVpVWAv",
    "outputId": "4897a73d-9bf5-44ca-99b1-bbd8bb1cfb2a"
   },
   "outputs": [
    {
     "data": {
      "text/html": [
       "<div>\n",
       "<style scoped>\n",
       "    .dataframe tbody tr th:only-of-type {\n",
       "        vertical-align: middle;\n",
       "    }\n",
       "\n",
       "    .dataframe tbody tr th {\n",
       "        vertical-align: top;\n",
       "    }\n",
       "\n",
       "    .dataframe thead th {\n",
       "        text-align: right;\n",
       "    }\n",
       "</style>\n",
       "<table border=\"1\" class=\"dataframe\">\n",
       "  <thead>\n",
       "    <tr style=\"text-align: right;\">\n",
       "      <th></th>\n",
       "      <th>Metro</th>\n",
       "      <th>1996-04</th>\n",
       "      <th>1996-05</th>\n",
       "      <th>1996-06</th>\n",
       "      <th>1996-07</th>\n",
       "      <th>1996-08</th>\n",
       "      <th>1996-09</th>\n",
       "      <th>1996-10</th>\n",
       "      <th>1996-11</th>\n",
       "      <th>1996-12</th>\n",
       "      <th>1997-01</th>\n",
       "      <th>1997-02</th>\n",
       "      <th>1997-03</th>\n",
       "      <th>1997-04</th>\n",
       "      <th>1997-05</th>\n",
       "      <th>1997-06</th>\n",
       "      <th>1997-07</th>\n",
       "      <th>1997-08</th>\n",
       "      <th>1997-09</th>\n",
       "      <th>1997-10</th>\n",
       "      <th>1997-11</th>\n",
       "      <th>1997-12</th>\n",
       "      <th>1998-01</th>\n",
       "      <th>1998-02</th>\n",
       "      <th>1998-03</th>\n",
       "      <th>1998-04</th>\n",
       "      <th>1998-05</th>\n",
       "      <th>1998-06</th>\n",
       "      <th>1998-07</th>\n",
       "      <th>1998-08</th>\n",
       "      <th>1998-09</th>\n",
       "      <th>1998-10</th>\n",
       "      <th>1998-11</th>\n",
       "      <th>1998-12</th>\n",
       "      <th>1999-01</th>\n",
       "      <th>1999-02</th>\n",
       "      <th>1999-03</th>\n",
       "      <th>1999-04</th>\n",
       "      <th>1999-05</th>\n",
       "      <th>1999-06</th>\n",
       "      <th>1999-07</th>\n",
       "      <th>1999-08</th>\n",
       "      <th>1999-09</th>\n",
       "      <th>1999-10</th>\n",
       "      <th>1999-11</th>\n",
       "      <th>1999-12</th>\n",
       "      <th>2000-01</th>\n",
       "      <th>2000-02</th>\n",
       "      <th>2000-03</th>\n",
       "      <th>2000-04</th>\n",
       "      <th>2000-05</th>\n",
       "      <th>2000-06</th>\n",
       "      <th>2000-07</th>\n",
       "      <th>2000-08</th>\n",
       "      <th>2000-09</th>\n",
       "      <th>2000-10</th>\n",
       "      <th>2000-11</th>\n",
       "      <th>2000-12</th>\n",
       "      <th>2001-01</th>\n",
       "      <th>2001-02</th>\n",
       "      <th>2001-03</th>\n",
       "      <th>2001-04</th>\n",
       "      <th>2001-05</th>\n",
       "      <th>2001-06</th>\n",
       "      <th>2001-07</th>\n",
       "      <th>2001-08</th>\n",
       "      <th>2001-09</th>\n",
       "      <th>2001-10</th>\n",
       "      <th>2001-11</th>\n",
       "      <th>2001-12</th>\n",
       "      <th>2002-01</th>\n",
       "      <th>2002-02</th>\n",
       "      <th>2002-03</th>\n",
       "      <th>2002-04</th>\n",
       "      <th>2002-05</th>\n",
       "      <th>2002-06</th>\n",
       "      <th>2002-07</th>\n",
       "      <th>2002-08</th>\n",
       "      <th>2002-09</th>\n",
       "      <th>2002-10</th>\n",
       "      <th>2002-11</th>\n",
       "      <th>2002-12</th>\n",
       "      <th>2003-01</th>\n",
       "      <th>2003-02</th>\n",
       "      <th>2003-03</th>\n",
       "      <th>2003-04</th>\n",
       "      <th>2003-05</th>\n",
       "      <th>2003-06</th>\n",
       "      <th>2003-07</th>\n",
       "      <th>2003-08</th>\n",
       "      <th>2003-09</th>\n",
       "      <th>2003-10</th>\n",
       "      <th>2003-11</th>\n",
       "      <th>2003-12</th>\n",
       "      <th>2004-01</th>\n",
       "      <th>2004-02</th>\n",
       "      <th>2004-03</th>\n",
       "      <th>2004-04</th>\n",
       "      <th>2004-05</th>\n",
       "      <th>2004-06</th>\n",
       "      <th>2004-07</th>\n",
       "      <th>2004-08</th>\n",
       "      <th>2004-09</th>\n",
       "      <th>2004-10</th>\n",
       "      <th>2004-11</th>\n",
       "      <th>2004-12</th>\n",
       "      <th>2005-01</th>\n",
       "      <th>2005-02</th>\n",
       "      <th>2005-03</th>\n",
       "      <th>2005-04</th>\n",
       "      <th>2005-05</th>\n",
       "      <th>2005-06</th>\n",
       "      <th>2005-07</th>\n",
       "      <th>2005-08</th>\n",
       "      <th>2005-09</th>\n",
       "      <th>2005-10</th>\n",
       "      <th>2005-11</th>\n",
       "      <th>2005-12</th>\n",
       "      <th>2006-01</th>\n",
       "      <th>2006-02</th>\n",
       "      <th>2006-03</th>\n",
       "      <th>2006-04</th>\n",
       "      <th>2006-05</th>\n",
       "      <th>2006-06</th>\n",
       "      <th>2006-07</th>\n",
       "      <th>2006-08</th>\n",
       "      <th>2006-09</th>\n",
       "      <th>2006-10</th>\n",
       "      <th>2006-11</th>\n",
       "      <th>2006-12</th>\n",
       "      <th>2007-01</th>\n",
       "      <th>2007-02</th>\n",
       "      <th>2007-03</th>\n",
       "      <th>2007-04</th>\n",
       "      <th>2007-05</th>\n",
       "      <th>2007-06</th>\n",
       "      <th>2007-07</th>\n",
       "      <th>2007-08</th>\n",
       "      <th>2007-09</th>\n",
       "      <th>2007-10</th>\n",
       "      <th>2007-11</th>\n",
       "      <th>2007-12</th>\n",
       "      <th>2008-01</th>\n",
       "      <th>2008-02</th>\n",
       "      <th>2008-03</th>\n",
       "      <th>2008-04</th>\n",
       "      <th>2008-05</th>\n",
       "      <th>2008-06</th>\n",
       "      <th>2008-07</th>\n",
       "      <th>2008-08</th>\n",
       "      <th>2008-09</th>\n",
       "      <th>2008-10</th>\n",
       "      <th>2008-11</th>\n",
       "      <th>2008-12</th>\n",
       "      <th>2009-01</th>\n",
       "      <th>2009-02</th>\n",
       "      <th>2009-03</th>\n",
       "      <th>2009-04</th>\n",
       "      <th>2009-05</th>\n",
       "      <th>2009-06</th>\n",
       "      <th>2009-07</th>\n",
       "      <th>2009-08</th>\n",
       "      <th>2009-09</th>\n",
       "      <th>2009-10</th>\n",
       "      <th>2009-11</th>\n",
       "      <th>2009-12</th>\n",
       "      <th>2010-01</th>\n",
       "      <th>2010-02</th>\n",
       "      <th>2010-03</th>\n",
       "      <th>2010-04</th>\n",
       "      <th>2010-05</th>\n",
       "      <th>2010-06</th>\n",
       "      <th>2010-07</th>\n",
       "      <th>2010-08</th>\n",
       "      <th>2010-09</th>\n",
       "      <th>2010-10</th>\n",
       "      <th>2010-11</th>\n",
       "      <th>2010-12</th>\n",
       "      <th>2011-01</th>\n",
       "      <th>2011-02</th>\n",
       "      <th>2011-03</th>\n",
       "      <th>2011-04</th>\n",
       "      <th>2011-05</th>\n",
       "      <th>2011-06</th>\n",
       "      <th>2011-07</th>\n",
       "      <th>2011-08</th>\n",
       "      <th>2011-09</th>\n",
       "      <th>2011-10</th>\n",
       "      <th>2011-11</th>\n",
       "      <th>2011-12</th>\n",
       "      <th>2012-01</th>\n",
       "      <th>2012-02</th>\n",
       "      <th>2012-03</th>\n",
       "      <th>2012-04</th>\n",
       "      <th>2012-05</th>\n",
       "      <th>2012-06</th>\n",
       "      <th>2012-07</th>\n",
       "      <th>2012-08</th>\n",
       "      <th>2012-09</th>\n",
       "      <th>2012-10</th>\n",
       "      <th>2012-11</th>\n",
       "      <th>2012-12</th>\n",
       "      <th>2013-01</th>\n",
       "      <th>2013-02</th>\n",
       "      <th>2013-03</th>\n",
       "      <th>2013-04</th>\n",
       "      <th>2013-05</th>\n",
       "      <th>2013-06</th>\n",
       "      <th>2013-07</th>\n",
       "      <th>2013-08</th>\n",
       "      <th>2013-09</th>\n",
       "      <th>2013-10</th>\n",
       "      <th>2013-11</th>\n",
       "      <th>2013-12</th>\n",
       "      <th>2014-01</th>\n",
       "      <th>2014-02</th>\n",
       "      <th>2014-03</th>\n",
       "      <th>2014-04</th>\n",
       "      <th>2014-05</th>\n",
       "      <th>2014-06</th>\n",
       "    </tr>\n",
       "  </thead>\n",
       "  <tbody>\n",
       "    <tr>\n",
       "      <th>0</th>\n",
       "      <td>1043</td>\n",
       "      <td>1039</td>\n",
       "      <td>1039</td>\n",
       "      <td>1039</td>\n",
       "      <td>1039</td>\n",
       "      <td>1039</td>\n",
       "      <td>1039</td>\n",
       "      <td>1039</td>\n",
       "      <td>1039</td>\n",
       "      <td>1039</td>\n",
       "      <td>1039</td>\n",
       "      <td>1039</td>\n",
       "      <td>1039</td>\n",
       "      <td>1039</td>\n",
       "      <td>1039</td>\n",
       "      <td>1039</td>\n",
       "      <td>1038</td>\n",
       "      <td>1038</td>\n",
       "      <td>1038</td>\n",
       "      <td>1038</td>\n",
       "      <td>1038</td>\n",
       "      <td>1038</td>\n",
       "      <td>1036</td>\n",
       "      <td>1036</td>\n",
       "      <td>1036</td>\n",
       "      <td>1036</td>\n",
       "      <td>1036</td>\n",
       "      <td>1036</td>\n",
       "      <td>1036</td>\n",
       "      <td>1036</td>\n",
       "      <td>1036</td>\n",
       "      <td>1036</td>\n",
       "      <td>1036</td>\n",
       "      <td>1036</td>\n",
       "      <td>1036</td>\n",
       "      <td>1036</td>\n",
       "      <td>1036</td>\n",
       "      <td>1036</td>\n",
       "      <td>1036</td>\n",
       "      <td>1036</td>\n",
       "      <td>1036</td>\n",
       "      <td>1036</td>\n",
       "      <td>1036</td>\n",
       "      <td>1036</td>\n",
       "      <td>1036</td>\n",
       "      <td>1036</td>\n",
       "      <td>1036</td>\n",
       "      <td>1036</td>\n",
       "      <td>1036</td>\n",
       "      <td>1036</td>\n",
       "      <td>1036</td>\n",
       "      <td>1036</td>\n",
       "      <td>1036</td>\n",
       "      <td>1036</td>\n",
       "      <td>1036</td>\n",
       "      <td>1036</td>\n",
       "      <td>1036</td>\n",
       "      <td>1036</td>\n",
       "      <td>1036</td>\n",
       "      <td>1036</td>\n",
       "      <td>1036</td>\n",
       "      <td>1036</td>\n",
       "      <td>1036</td>\n",
       "      <td>1036</td>\n",
       "      <td>1036</td>\n",
       "      <td>1036</td>\n",
       "      <td>1036</td>\n",
       "      <td>1036</td>\n",
       "      <td>1036</td>\n",
       "      <td>1036</td>\n",
       "      <td>1036</td>\n",
       "      <td>1036</td>\n",
       "      <td>1036</td>\n",
       "      <td>1036</td>\n",
       "      <td>1036</td>\n",
       "      <td>1036</td>\n",
       "      <td>1036</td>\n",
       "      <td>1036</td>\n",
       "      <td>1036</td>\n",
       "      <td>1036</td>\n",
       "      <td>1036</td>\n",
       "      <td>1036</td>\n",
       "      <td>1036</td>\n",
       "      <td>1036</td>\n",
       "      <td>1036</td>\n",
       "      <td>1036</td>\n",
       "      <td>1036</td>\n",
       "      <td>1036</td>\n",
       "      <td>918</td>\n",
       "      <td>918</td>\n",
       "      <td>918</td>\n",
       "      <td>918</td>\n",
       "      <td>918</td>\n",
       "      <td>918</td>\n",
       "      <td>887</td>\n",
       "      <td>887</td>\n",
       "      <td>887</td>\n",
       "      <td>887</td>\n",
       "      <td>887</td>\n",
       "      <td>887</td>\n",
       "      <td>866</td>\n",
       "      <td>866</td>\n",
       "      <td>866</td>\n",
       "      <td>866</td>\n",
       "      <td>866</td>\n",
       "      <td>866</td>\n",
       "      <td>814</td>\n",
       "      <td>814</td>\n",
       "      <td>801</td>\n",
       "      <td>801</td>\n",
       "      <td>801</td>\n",
       "      <td>801</td>\n",
       "      <td>723</td>\n",
       "      <td>723</td>\n",
       "      <td>723</td>\n",
       "      <td>723</td>\n",
       "      <td>723</td>\n",
       "      <td>723</td>\n",
       "      <td>667</td>\n",
       "      <td>667</td>\n",
       "      <td>667</td>\n",
       "      <td>667</td>\n",
       "      <td>667</td>\n",
       "      <td>667</td>\n",
       "      <td>640</td>\n",
       "      <td>640</td>\n",
       "      <td>640</td>\n",
       "      <td>640</td>\n",
       "      <td>640</td>\n",
       "      <td>640</td>\n",
       "      <td>620</td>\n",
       "      <td>620</td>\n",
       "      <td>620</td>\n",
       "      <td>620</td>\n",
       "      <td>620</td>\n",
       "      <td>620</td>\n",
       "      <td>613</td>\n",
       "      <td>613</td>\n",
       "      <td>613</td>\n",
       "      <td>613</td>\n",
       "      <td>613</td>\n",
       "      <td>613</td>\n",
       "      <td>607</td>\n",
       "      <td>607</td>\n",
       "      <td>607</td>\n",
       "      <td>607</td>\n",
       "      <td>607</td>\n",
       "      <td>607</td>\n",
       "      <td>598</td>\n",
       "      <td>598</td>\n",
       "      <td>598</td>\n",
       "      <td>598</td>\n",
       "      <td>598</td>\n",
       "      <td>598</td>\n",
       "      <td>587</td>\n",
       "      <td>587</td>\n",
       "      <td>587</td>\n",
       "      <td>587</td>\n",
       "      <td>587</td>\n",
       "      <td>587</td>\n",
       "      <td>580</td>\n",
       "      <td>580</td>\n",
       "      <td>580</td>\n",
       "      <td>580</td>\n",
       "      <td>580</td>\n",
       "      <td>580</td>\n",
       "      <td>579</td>\n",
       "      <td>579</td>\n",
       "      <td>349</td>\n",
       "      <td>349</td>\n",
       "      <td>349</td>\n",
       "      <td>349</td>\n",
       "      <td>308</td>\n",
       "      <td>308</td>\n",
       "      <td>308</td>\n",
       "      <td>308</td>\n",
       "      <td>308</td>\n",
       "      <td>308</td>\n",
       "      <td>275</td>\n",
       "      <td>275</td>\n",
       "      <td>275</td>\n",
       "      <td>275</td>\n",
       "      <td>275</td>\n",
       "      <td>275</td>\n",
       "      <td>251</td>\n",
       "      <td>251</td>\n",
       "      <td>251</td>\n",
       "      <td>251</td>\n",
       "      <td>251</td>\n",
       "      <td>251</td>\n",
       "      <td>224</td>\n",
       "      <td>224</td>\n",
       "      <td>224</td>\n",
       "      <td>224</td>\n",
       "      <td>224</td>\n",
       "      <td>224</td>\n",
       "      <td>206</td>\n",
       "      <td>206</td>\n",
       "      <td>206</td>\n",
       "      <td>206</td>\n",
       "      <td>206</td>\n",
       "      <td>206</td>\n",
       "      <td>151</td>\n",
       "      <td>151</td>\n",
       "      <td>151</td>\n",
       "      <td>151</td>\n",
       "      <td>151</td>\n",
       "      <td>151</td>\n",
       "      <td>109</td>\n",
       "      <td>109</td>\n",
       "      <td>109</td>\n",
       "      <td>109</td>\n",
       "      <td>109</td>\n",
       "      <td>109</td>\n",
       "      <td>56</td>\n",
       "      <td>56</td>\n",
       "      <td>56</td>\n",
       "      <td>56</td>\n",
       "      <td>56</td>\n",
       "      <td>56</td>\n",
       "    </tr>\n",
       "  </tbody>\n",
       "</table>\n",
       "</div>"
      ],
      "text/plain": [
       "   Metro  1996-04  1996-05  1996-06  1996-07  1996-08  1996-09  1996-10  \\\n",
       "0   1043     1039     1039     1039     1039     1039     1039     1039   \n",
       "\n",
       "   1996-11  1996-12  1997-01  1997-02  1997-03  1997-04  1997-05  1997-06  \\\n",
       "0     1039     1039     1039     1039     1039     1039     1039     1039   \n",
       "\n",
       "   1997-07  1997-08  1997-09  1997-10  1997-11  1997-12  1998-01  1998-02  \\\n",
       "0     1038     1038     1038     1038     1038     1038     1036     1036   \n",
       "\n",
       "   1998-03  1998-04  1998-05  1998-06  1998-07  1998-08  1998-09  1998-10  \\\n",
       "0     1036     1036     1036     1036     1036     1036     1036     1036   \n",
       "\n",
       "   1998-11  1998-12  1999-01  1999-02  1999-03  1999-04  1999-05  1999-06  \\\n",
       "0     1036     1036     1036     1036     1036     1036     1036     1036   \n",
       "\n",
       "   1999-07  1999-08  1999-09  1999-10  1999-11  1999-12  2000-01  2000-02  \\\n",
       "0     1036     1036     1036     1036     1036     1036     1036     1036   \n",
       "\n",
       "   2000-03  2000-04  2000-05  2000-06  2000-07  2000-08  2000-09  2000-10  \\\n",
       "0     1036     1036     1036     1036     1036     1036     1036     1036   \n",
       "\n",
       "   2000-11  2000-12  2001-01  2001-02  2001-03  2001-04  2001-05  2001-06  \\\n",
       "0     1036     1036     1036     1036     1036     1036     1036     1036   \n",
       "\n",
       "   2001-07  2001-08  2001-09  2001-10  2001-11  2001-12  2002-01  2002-02  \\\n",
       "0     1036     1036     1036     1036     1036     1036     1036     1036   \n",
       "\n",
       "   2002-03  2002-04  2002-05  2002-06  2002-07  2002-08  2002-09  2002-10  \\\n",
       "0     1036     1036     1036     1036     1036     1036     1036     1036   \n",
       "\n",
       "   2002-11  2002-12  2003-01  2003-02  2003-03  2003-04  2003-05  2003-06  \\\n",
       "0     1036     1036     1036     1036     1036     1036     1036     1036   \n",
       "\n",
       "   2003-07  2003-08  2003-09  2003-10  2003-11  2003-12  2004-01  2004-02  \\\n",
       "0      918      918      918      918      918      918      887      887   \n",
       "\n",
       "   2004-03  2004-04  2004-05  2004-06  2004-07  2004-08  2004-09  2004-10  \\\n",
       "0      887      887      887      887      866      866      866      866   \n",
       "\n",
       "   2004-11  2004-12  2005-01  2005-02  2005-03  2005-04  2005-05  2005-06  \\\n",
       "0      866      866      814      814      801      801      801      801   \n",
       "\n",
       "   2005-07  2005-08  2005-09  2005-10  2005-11  2005-12  2006-01  2006-02  \\\n",
       "0      723      723      723      723      723      723      667      667   \n",
       "\n",
       "   2006-03  2006-04  2006-05  2006-06  2006-07  2006-08  2006-09  2006-10  \\\n",
       "0      667      667      667      667      640      640      640      640   \n",
       "\n",
       "   2006-11  2006-12  2007-01  2007-02  2007-03  2007-04  2007-05  2007-06  \\\n",
       "0      640      640      620      620      620      620      620      620   \n",
       "\n",
       "   2007-07  2007-08  2007-09  2007-10  2007-11  2007-12  2008-01  2008-02  \\\n",
       "0      613      613      613      613      613      613      607      607   \n",
       "\n",
       "   2008-03  2008-04  2008-05  2008-06  2008-07  2008-08  2008-09  2008-10  \\\n",
       "0      607      607      607      607      598      598      598      598   \n",
       "\n",
       "   2008-11  2008-12  2009-01  2009-02  2009-03  2009-04  2009-05  2009-06  \\\n",
       "0      598      598      587      587      587      587      587      587   \n",
       "\n",
       "   2009-07  2009-08  2009-09  2009-10  2009-11  2009-12  2010-01  2010-02  \\\n",
       "0      580      580      580      580      580      580      579      579   \n",
       "\n",
       "   2010-03  2010-04  2010-05  2010-06  2010-07  2010-08  2010-09  2010-10  \\\n",
       "0      349      349      349      349      308      308      308      308   \n",
       "\n",
       "   2010-11  2010-12  2011-01  2011-02  2011-03  2011-04  2011-05  2011-06  \\\n",
       "0      308      308      275      275      275      275      275      275   \n",
       "\n",
       "   2011-07  2011-08  2011-09  2011-10  2011-11  2011-12  2012-01  2012-02  \\\n",
       "0      251      251      251      251      251      251      224      224   \n",
       "\n",
       "   2012-03  2012-04  2012-05  2012-06  2012-07  2012-08  2012-09  2012-10  \\\n",
       "0      224      224      224      224      206      206      206      206   \n",
       "\n",
       "   2012-11  2012-12  2013-01  2013-02  2013-03  2013-04  2013-05  2013-06  \\\n",
       "0      206      206      151      151      151      151      151      151   \n",
       "\n",
       "   2013-07  2013-08  2013-09  2013-10  2013-11  2013-12  2014-01  2014-02  \\\n",
       "0      109      109      109      109      109      109       56       56   \n",
       "\n",
       "   2014-03  2014-04  2014-05  2014-06  \n",
       "0       56       56       56       56  "
      ]
     },
     "execution_count": 9,
     "metadata": {},
     "output_type": "execute_result"
    }
   ],
   "source": [
    "# Apply missing_data function to the dataframe\n",
    "missing_data(df).T"
   ]
  },
  {
   "cell_type": "markdown",
   "metadata": {
    "id": "8oQi2mnKKzNA"
   },
   "source": [
    "- The missing values in the date columns will be filled through interpolation.\n",
    "- The missing values in the metro column will be replaced with 'missing'"
   ]
  },
  {
   "cell_type": "code",
   "execution_count": 10,
   "metadata": {
    "id": "6gMnVr7JVWAv"
   },
   "outputs": [],
   "source": [
    "# imputing the missing values by replacing them with 'missing'\n",
    "\n",
    "df.Metro.fillna('missing', inplace=True)"
   ]
  },
  {
   "cell_type": "code",
   "execution_count": 11,
   "metadata": {
    "id": "AzRsm7LIKzNA"
   },
   "outputs": [],
   "source": [
    "# interpolate missing values on date columns\n",
    "df.interpolate(inplace=True)\n"
   ]
  },
  {
   "cell_type": "code",
   "execution_count": 12,
   "metadata": {
    "colab": {
     "base_uri": "https://localhost:8080/"
    },
    "id": "hLD11LTvKzNB",
    "outputId": "94f37168-4602-4c3f-ea89-3bc39ec5736e"
   },
   "outputs": [
    {
     "name": "stdout",
     "output_type": "stream",
     "text": [
      "The data has 0 missing values\n"
     ]
    }
   ],
   "source": [
    "# checking to see if missing values have been replaced\n",
    "\n",
    "print(f'The data has {df.isna().sum().sum()} missing values')"
   ]
  },
  {
   "cell_type": "markdown",
   "metadata": {
    "id": "leGTk0FPVWAw"
   },
   "source": [
    "### 2.2.3 Consistency\n",
    "- Checking for duplicates"
   ]
  },
  {
   "cell_type": "code",
   "execution_count": 13,
   "metadata": {
    "colab": {
     "base_uri": "https://localhost:8080/"
    },
    "id": "dbC93ePJVWAw",
    "outputId": "08261f40-f4cb-48ab-d194-f65d03cb0d91"
   },
   "outputs": [
    {
     "name": "stdout",
     "output_type": "stream",
     "text": [
      "The data has 0 duplicates\n"
     ]
    }
   ],
   "source": [
    "# checking for duplicates\n",
    "\n",
    "print(f'The data has {df.duplicated().sum()} duplicates')"
   ]
  },
  {
   "cell_type": "markdown",
   "metadata": {
    "id": "ihkeUQJlVWAx"
   },
   "source": [
    "- The data has no duplicates hence it's consistent."
   ]
  },
  {
   "cell_type": "markdown",
   "metadata": {
    "id": "zuTp1H2aVWAx"
   },
   "source": [
    "### 2.2.4 Uniformity\n",
    "- Checking different columns to ensure that they are correct."
   ]
  },
  {
   "cell_type": "markdown",
   "metadata": {
    "id": "9R8oYv4eVhez"
   },
   "source": [
    "- Region ID is a unique identifier so it will not be explored further.\n",
    "- The Zipcode column will be explored."
   ]
  },
  {
   "cell_type": "code",
   "execution_count": 14,
   "metadata": {
    "colab": {
     "base_uri": "https://localhost:8080/"
    },
    "id": "3XOdEtegVWAy",
    "outputId": "a151797a-b668-482e-9753-9f0bed531b1c"
   },
   "outputs": [
    {
     "data": {
      "text/plain": [
       "dtype('int64')"
      ]
     },
     "execution_count": 14,
     "metadata": {},
     "output_type": "execute_result"
    }
   ],
   "source": [
    "# exploring the datatype of zipcode column\n",
    "\n",
    "df.dtypes['Zipcode']"
   ]
  },
  {
   "cell_type": "markdown",
   "metadata": {
    "id": "OAF2c2MtVWAy"
   },
   "source": [
    "Zipcodes represent locations and so should be categorical data types. The Zipcode column will be converted from integer to string type."
   ]
  },
  {
   "cell_type": "code",
   "execution_count": 15,
   "metadata": {
    "colab": {
     "base_uri": "https://localhost:8080/"
    },
    "id": "0-SvlhXyVWAy",
    "outputId": "597c5f41-cd45-40d4-9c9f-b9440bf2f14c"
   },
   "outputs": [
    {
     "name": "stdout",
     "output_type": "stream",
     "text": [
      "string\n"
     ]
    }
   ],
   "source": [
    "# Convert all the zipcodes to strings \n",
    "\n",
    "df.Zipcode = df.Zipcode.astype('string')\n",
    "print(df.dtypes[\"Zipcode\"])"
   ]
  },
  {
   "cell_type": "code",
   "execution_count": 16,
   "metadata": {
    "colab": {
     "base_uri": "https://localhost:8080/"
    },
    "id": "zTAxtHKxVWAz",
    "outputId": "0e82b38b-d57f-4bd5-c462-d6f18a5abcac"
   },
   "outputs": [
    {
     "name": "stdout",
     "output_type": "stream",
     "text": [
      "1001\n",
      "99901\n"
     ]
    }
   ],
   "source": [
    "# exploring the format of the zip codes\n",
    "\n",
    "print(df.Zipcode.min())\n",
    "print(df.Zipcode.max())"
   ]
  },
  {
   "cell_type": "markdown",
   "metadata": {
    "id": "Zlbh8Ws1WZnN"
   },
   "source": [
    "Some zipcodes have four digits and others five. The column needs to be restructured to ensure all the digits are five in number. The columns with four digits seem to be missing a zero at the beginning."
   ]
  },
  {
   "cell_type": "code",
   "execution_count": 17,
   "metadata": {
    "id": "dDDamR6iVWAz"
   },
   "outputs": [],
   "source": [
    "# The zipcodes need to be 5 digits long, so a zero will be added to the ones that have four digits \n",
    "\n",
    "for i in range(len(df)):\n",
    "    df.Zipcode[i] = df.Zipcode[i].rjust(5, '0')"
   ]
  },
  {
   "cell_type": "code",
   "execution_count": 18,
   "metadata": {
    "colab": {
     "base_uri": "https://localhost:8080/"
    },
    "id": "UcsY7OsvVWAz",
    "outputId": "02e4592a-e476-4aca-ce8c-f31f43506214"
   },
   "outputs": [
    {
     "name": "stdout",
     "output_type": "stream",
     "text": [
      "01001\n"
     ]
    }
   ],
   "source": [
    "print(df.Zipcode.min())"
   ]
  },
  {
   "cell_type": "markdown",
   "metadata": {
    "id": "V_SkwEFSVWA0"
   },
   "source": [
    "All the zipcodes are now 5 digits long"
   ]
  },
  {
   "cell_type": "markdown",
   "metadata": {},
   "source": [
    "To solve the problems raised under business understanding, two columns will be created.\n",
    "- Return on Investment (ROI)\n",
    "- Coefficient of variation (CV)\n"
   ]
  },
  {
   "cell_type": "code",
   "execution_count": 19,
   "metadata": {},
   "outputs": [],
   "source": [
    "# calculating and creating a new column -ROI\n",
    "\n",
    "df['ROI'] = (df['2018-04']/ df['1996-04'])-1\n",
    "\n",
    "\n",
    "\n",
    "#calculating std to be used to find CV\n",
    "df[\"std\"] = df.loc[:, \"1996-04\":\"2018-04\"].std(skipna=True, axis=1)\n",
    "\n",
    "#calculating mean to be used to find CV\n",
    "df[\"mean\"] = df.loc[:, \"1996-04\":\"2018-04\"].mean(skipna=True, axis=1)\n",
    "\n",
    "# calculating and creating a new column - CV\n",
    "\n",
    "df[\"CV\"] = df['std']/df[\"mean\"]\n",
    "\n",
    "# dropping std and mean as they are not necessary for analysis\n",
    "\n",
    "df.drop([\"std\", \"mean\"], inplace=True, axis=1)"
   ]
  },
  {
   "cell_type": "code",
   "execution_count": 20,
   "metadata": {},
   "outputs": [
    {
     "data": {
      "text/html": [
       "<div>\n",
       "<style scoped>\n",
       "    .dataframe tbody tr th:only-of-type {\n",
       "        vertical-align: middle;\n",
       "    }\n",
       "\n",
       "    .dataframe tbody tr th {\n",
       "        vertical-align: top;\n",
       "    }\n",
       "\n",
       "    .dataframe thead th {\n",
       "        text-align: right;\n",
       "    }\n",
       "</style>\n",
       "<table border=\"1\" class=\"dataframe\">\n",
       "  <thead>\n",
       "    <tr style=\"text-align: right;\">\n",
       "      <th></th>\n",
       "      <th>Zipcode</th>\n",
       "      <th>ROI</th>\n",
       "      <th>CV</th>\n",
       "    </tr>\n",
       "  </thead>\n",
       "  <tbody>\n",
       "    <tr>\n",
       "      <th>0</th>\n",
       "      <td>60657</td>\n",
       "      <td>2.083782</td>\n",
       "      <td>0.256487</td>\n",
       "    </tr>\n",
       "    <tr>\n",
       "      <th>1</th>\n",
       "      <td>75070</td>\n",
       "      <td>0.365295</td>\n",
       "      <td>0.152680</td>\n",
       "    </tr>\n",
       "    <tr>\n",
       "      <th>2</th>\n",
       "      <td>77494</td>\n",
       "      <td>0.567966</td>\n",
       "      <td>0.143950</td>\n",
       "    </tr>\n",
       "    <tr>\n",
       "      <th>3</th>\n",
       "      <td>60614</td>\n",
       "      <td>1.623971</td>\n",
       "      <td>0.237364</td>\n",
       "    </tr>\n",
       "    <tr>\n",
       "      <th>4</th>\n",
       "      <td>79936</td>\n",
       "      <td>0.571798</td>\n",
       "      <td>0.178326</td>\n",
       "    </tr>\n",
       "  </tbody>\n",
       "</table>\n",
       "</div>"
      ],
      "text/plain": [
       "  Zipcode       ROI        CV\n",
       "0   60657  2.083782  0.256487\n",
       "1   75070  0.365295  0.152680\n",
       "2   77494  0.567966  0.143950\n",
       "3   60614  1.623971  0.237364\n",
       "4   79936  0.571798  0.178326"
      ]
     },
     "execution_count": 20,
     "metadata": {},
     "output_type": "execute_result"
    }
   ],
   "source": [
    "df[[\"Zipcode\", \"ROI\", \"CV\"]].head()"
   ]
  },
  {
   "cell_type": "markdown",
   "metadata": {
    "id": "mTVvmTbpVWA0"
   },
   "source": [
    "### Convert the dataset into time series"
   ]
  },
  {
   "cell_type": "markdown",
   "metadata": {
    "id": "AZCeYvJQVWA0"
   },
   "source": [
    "A time series will be created by changing the dataframe from wide view to long view, and indexing it by the Date."
   ]
  },
  {
   "cell_type": "code",
   "execution_count": 21,
   "metadata": {
    "id": "CqGp4VGfVWA0"
   },
   "outputs": [],
   "source": [
    "# Create a copy of the dataset to convert into long view while preserving df as a wide view for EDA\n",
    "new_df = df.copy()"
   ]
  },
  {
   "cell_type": "code",
   "execution_count": 22,
   "metadata": {
    "id": "WRzAJpFOVWA0"
   },
   "outputs": [],
   "source": [
    "# creating a function that changes the dataframe structure from wide view to long view\n",
    "\n",
    "def melt_df(data):\n",
    "    melted = pd.melt(data, id_vars=['RegionID','Zipcode', 'City', 'State', 'Metro', 'CountyName', 'SizeRank', \n",
    "                                  'ROI', 'CV' ], var_name='Date')\n",
    "    melted['Date'] = pd.to_datetime(melted['Date'], infer_datetime_format=True)\n",
    "    melted = melted.dropna(subset=['value'])\n",
    "    return melted"
   ]
  },
  {
   "cell_type": "code",
   "execution_count": 23,
   "metadata": {
    "id": "yei07fuLVWA1"
   },
   "outputs": [],
   "source": [
    "new_df = melt_df(new_df)"
   ]
  },
  {
   "cell_type": "code",
   "execution_count": 24,
   "metadata": {},
   "outputs": [],
   "source": [
    "# Converting the date data type into date time and indexing\n",
    "\n",
    "new_df['Date'] = pd.to_datetime(new_df['Date'], format='%m/%y')\n",
    "\n",
    "# Set the 'Date' column as index\n",
    "\n",
    "new_df.set_index('Date', inplace=True)"
   ]
  },
  {
   "cell_type": "code",
   "execution_count": 25,
   "metadata": {},
   "outputs": [],
   "source": [
    "# renaming the column value to median_price\n",
    "\n",
    "new_df.rename(columns = {\"value\" : \"median_houseprice\"}, inplace=True)\n"
   ]
  },
  {
   "cell_type": "code",
   "execution_count": 26,
   "metadata": {
    "colab": {
     "base_uri": "https://localhost:8080/",
     "height": 238
    },
    "id": "QF0kJekJVWA1",
    "outputId": "3e8535bd-1e09-4bb3-bdad-bb06601f97e1"
   },
   "outputs": [
    {
     "data": {
      "text/html": [
       "<div>\n",
       "<style scoped>\n",
       "    .dataframe tbody tr th:only-of-type {\n",
       "        vertical-align: middle;\n",
       "    }\n",
       "\n",
       "    .dataframe tbody tr th {\n",
       "        vertical-align: top;\n",
       "    }\n",
       "\n",
       "    .dataframe thead th {\n",
       "        text-align: right;\n",
       "    }\n",
       "</style>\n",
       "<table border=\"1\" class=\"dataframe\">\n",
       "  <thead>\n",
       "    <tr style=\"text-align: right;\">\n",
       "      <th></th>\n",
       "      <th>RegionID</th>\n",
       "      <th>Zipcode</th>\n",
       "      <th>City</th>\n",
       "      <th>State</th>\n",
       "      <th>Metro</th>\n",
       "      <th>CountyName</th>\n",
       "      <th>SizeRank</th>\n",
       "      <th>ROI</th>\n",
       "      <th>CV</th>\n",
       "      <th>median_houseprice</th>\n",
       "    </tr>\n",
       "    <tr>\n",
       "      <th>Date</th>\n",
       "      <th></th>\n",
       "      <th></th>\n",
       "      <th></th>\n",
       "      <th></th>\n",
       "      <th></th>\n",
       "      <th></th>\n",
       "      <th></th>\n",
       "      <th></th>\n",
       "      <th></th>\n",
       "      <th></th>\n",
       "    </tr>\n",
       "  </thead>\n",
       "  <tbody>\n",
       "    <tr>\n",
       "      <th>1996-04-01</th>\n",
       "      <td>84654</td>\n",
       "      <td>60657</td>\n",
       "      <td>Chicago</td>\n",
       "      <td>IL</td>\n",
       "      <td>Chicago</td>\n",
       "      <td>Cook</td>\n",
       "      <td>1</td>\n",
       "      <td>2.083782</td>\n",
       "      <td>0.256487</td>\n",
       "      <td>334200.0</td>\n",
       "    </tr>\n",
       "    <tr>\n",
       "      <th>1996-04-01</th>\n",
       "      <td>90668</td>\n",
       "      <td>75070</td>\n",
       "      <td>McKinney</td>\n",
       "      <td>TX</td>\n",
       "      <td>Dallas-Fort Worth</td>\n",
       "      <td>Collin</td>\n",
       "      <td>2</td>\n",
       "      <td>0.365295</td>\n",
       "      <td>0.152680</td>\n",
       "      <td>235700.0</td>\n",
       "    </tr>\n",
       "    <tr>\n",
       "      <th>1996-04-01</th>\n",
       "      <td>91982</td>\n",
       "      <td>77494</td>\n",
       "      <td>Katy</td>\n",
       "      <td>TX</td>\n",
       "      <td>Houston</td>\n",
       "      <td>Harris</td>\n",
       "      <td>3</td>\n",
       "      <td>0.567966</td>\n",
       "      <td>0.143950</td>\n",
       "      <td>210400.0</td>\n",
       "    </tr>\n",
       "    <tr>\n",
       "      <th>1996-04-01</th>\n",
       "      <td>84616</td>\n",
       "      <td>60614</td>\n",
       "      <td>Chicago</td>\n",
       "      <td>IL</td>\n",
       "      <td>Chicago</td>\n",
       "      <td>Cook</td>\n",
       "      <td>4</td>\n",
       "      <td>1.623971</td>\n",
       "      <td>0.237364</td>\n",
       "      <td>498100.0</td>\n",
       "    </tr>\n",
       "    <tr>\n",
       "      <th>1996-04-01</th>\n",
       "      <td>93144</td>\n",
       "      <td>79936</td>\n",
       "      <td>El Paso</td>\n",
       "      <td>TX</td>\n",
       "      <td>El Paso</td>\n",
       "      <td>El Paso</td>\n",
       "      <td>5</td>\n",
       "      <td>0.571798</td>\n",
       "      <td>0.178326</td>\n",
       "      <td>77300.0</td>\n",
       "    </tr>\n",
       "  </tbody>\n",
       "</table>\n",
       "</div>"
      ],
      "text/plain": [
       "            RegionID Zipcode      City State              Metro CountyName  \\\n",
       "Date                                                                         \n",
       "1996-04-01     84654   60657   Chicago    IL            Chicago       Cook   \n",
       "1996-04-01     90668   75070  McKinney    TX  Dallas-Fort Worth     Collin   \n",
       "1996-04-01     91982   77494      Katy    TX            Houston     Harris   \n",
       "1996-04-01     84616   60614   Chicago    IL            Chicago       Cook   \n",
       "1996-04-01     93144   79936   El Paso    TX            El Paso    El Paso   \n",
       "\n",
       "            SizeRank       ROI        CV  median_houseprice  \n",
       "Date                                                         \n",
       "1996-04-01         1  2.083782  0.256487           334200.0  \n",
       "1996-04-01         2  0.365295  0.152680           235700.0  \n",
       "1996-04-01         3  0.567966  0.143950           210400.0  \n",
       "1996-04-01         4  1.623971  0.237364           498100.0  \n",
       "1996-04-01         5  0.571798  0.178326            77300.0  "
      ]
     },
     "execution_count": 26,
     "metadata": {},
     "output_type": "execute_result"
    }
   ],
   "source": [
    "# displaying the final cleaned data\n",
    "new_df.head()"
   ]
  },
  {
   "cell_type": "markdown",
   "metadata": {
    "id": "7Wkxw9KaVWA2"
   },
   "source": [
    "# 4. EDA\n",
    "\n",
    "Exploration will be done on the data to determine:\n",
    "1. Does Urbanization Affect Median House Prices?\n",
    "2. Which cities fetch the highest median house prices?\n",
    "3. What top 5 Zipcodes have the highest ROI?\n",
    "4. Which zipcodes have high price volatility?\n",
    "5. What is the trend of median houseprices over the years?hat is the trend of median houseprices over the years?\n"
   ]
  },
  {
   "cell_type": "code",
   "execution_count": 27,
   "metadata": {},
   "outputs": [
    {
     "name": "stdout",
     "output_type": "stream",
     "text": [
      "<class 'pandas.core.frame.DataFrame'>\n",
      "DatetimeIndex: 3901595 entries, 1996-04-01 to 2018-04-01\n",
      "Data columns (total 10 columns):\n",
      " #   Column             Dtype  \n",
      "---  ------             -----  \n",
      " 0   RegionID           int64  \n",
      " 1   Zipcode            string \n",
      " 2   City               object \n",
      " 3   State              object \n",
      " 4   Metro              object \n",
      " 5   CountyName         object \n",
      " 6   SizeRank           int64  \n",
      " 7   ROI                float64\n",
      " 8   CV                 float64\n",
      " 9   median_houseprice  float64\n",
      "dtypes: float64(3), int64(2), object(4), string(1)\n",
      "memory usage: 327.4+ MB\n"
     ]
    }
   ],
   "source": [
    "# Explore the data information\n",
    "new_df.info()"
   ]
  },
  {
   "cell_type": "markdown",
   "metadata": {},
   "source": [
    "The data has ten columns, five of which are numerical and five categorical. "
   ]
  },
  {
   "cell_type": "code",
   "execution_count": 28,
   "metadata": {},
   "outputs": [
    {
     "data": {
      "text/html": [
       "<div>\n",
       "<style scoped>\n",
       "    .dataframe tbody tr th:only-of-type {\n",
       "        vertical-align: middle;\n",
       "    }\n",
       "\n",
       "    .dataframe tbody tr th {\n",
       "        vertical-align: top;\n",
       "    }\n",
       "\n",
       "    .dataframe thead th {\n",
       "        text-align: right;\n",
       "    }\n",
       "</style>\n",
       "<table border=\"1\" class=\"dataframe\">\n",
       "  <thead>\n",
       "    <tr style=\"text-align: right;\">\n",
       "      <th></th>\n",
       "      <th>RegionID</th>\n",
       "      <th>SizeRank</th>\n",
       "      <th>ROI</th>\n",
       "      <th>CV</th>\n",
       "    </tr>\n",
       "  </thead>\n",
       "  <tbody>\n",
       "    <tr>\n",
       "      <th>count</th>\n",
       "      <td>14723.000000</td>\n",
       "      <td>14723.000000</td>\n",
       "      <td>14723.000000</td>\n",
       "      <td>14723.000000</td>\n",
       "    </tr>\n",
       "    <tr>\n",
       "      <th>mean</th>\n",
       "      <td>81075.010052</td>\n",
       "      <td>7362.000000</td>\n",
       "      <td>1.308045</td>\n",
       "      <td>0.237317</td>\n",
       "    </tr>\n",
       "    <tr>\n",
       "      <th>std</th>\n",
       "      <td>31934.118525</td>\n",
       "      <td>4250.308342</td>\n",
       "      <td>1.490612</td>\n",
       "      <td>0.095954</td>\n",
       "    </tr>\n",
       "    <tr>\n",
       "      <th>min</th>\n",
       "      <td>58196.000000</td>\n",
       "      <td>1.000000</td>\n",
       "      <td>-0.850937</td>\n",
       "      <td>0.041275</td>\n",
       "    </tr>\n",
       "    <tr>\n",
       "      <th>25%</th>\n",
       "      <td>67174.500000</td>\n",
       "      <td>3681.500000</td>\n",
       "      <td>0.739994</td>\n",
       "      <td>0.168237</td>\n",
       "    </tr>\n",
       "    <tr>\n",
       "      <th>50%</th>\n",
       "      <td>78007.000000</td>\n",
       "      <td>7362.000000</td>\n",
       "      <td>1.113095</td>\n",
       "      <td>0.228125</td>\n",
       "    </tr>\n",
       "    <tr>\n",
       "      <th>75%</th>\n",
       "      <td>90920.500000</td>\n",
       "      <td>11042.500000</td>\n",
       "      <td>1.602578</td>\n",
       "      <td>0.288000</td>\n",
       "    </tr>\n",
       "    <tr>\n",
       "      <th>max</th>\n",
       "      <td>753844.000000</td>\n",
       "      <td>14723.000000</td>\n",
       "      <td>101.962601</td>\n",
       "      <td>1.303920</td>\n",
       "    </tr>\n",
       "  </tbody>\n",
       "</table>\n",
       "</div>"
      ],
      "text/plain": [
       "            RegionID      SizeRank           ROI            CV\n",
       "count   14723.000000  14723.000000  14723.000000  14723.000000\n",
       "mean    81075.010052   7362.000000      1.308045      0.237317\n",
       "std     31934.118525   4250.308342      1.490612      0.095954\n",
       "min     58196.000000      1.000000     -0.850937      0.041275\n",
       "25%     67174.500000   3681.500000      0.739994      0.168237\n",
       "50%     78007.000000   7362.000000      1.113095      0.228125\n",
       "75%     90920.500000  11042.500000      1.602578      0.288000\n",
       "max    753844.000000  14723.000000    101.962601      1.303920"
      ]
     },
     "execution_count": 28,
     "metadata": {},
     "output_type": "execute_result"
    }
   ],
   "source": [
    "# exploring the statistics of the data columns \n",
    "\n",
    "explore_df = df[['RegionID', 'SizeRank', 'ROI', 'CV']]\n",
    "\n",
    "explore_df.describe()"
   ]
  },
  {
   "cell_type": "markdown",
   "metadata": {},
   "source": [
    "# bjobnwenpknvpewnmckpnmkcnknmd \n",
    "Plotting a funtion for visualization"
   ]
  },
  {
   "cell_type": "code",
   "execution_count": 29,
   "metadata": {},
   "outputs": [],
   "source": [
    "# Creating a plot function\n",
    "\n",
    "## neds renaming of labels\n",
    "def bar_plot(data):\n",
    "    ax = data.plot(kind='bar', figsize=(20,8), color=\"green\", fontsize=13);\n",
    "    ax.set_alpha(0.8)\n",
    "\n",
    "    ax.set_title(\"Top Ten Median House Prices by Urban Areas\", fontsize=26)\n",
    "    ax.set_ylabel(\"Average Median House Price\", fontsize=20);\n",
    "    ax.set_xlabel(\"Size Ranks\", fontsize=20)\n",
    "    plt.xticks(fontsize= 18)\n",
    "    plt.savefig(\"output.jpg\")\n",
    "    plt.show()"
   ]
  },
  {
   "cell_type": "markdown",
   "metadata": {},
   "source": [
    "### 4.1. Does Urbanization Affect Median House Prices?"
   ]
  },
  {
   "cell_type": "code",
   "execution_count": 30,
   "metadata": {},
   "outputs": [],
   "source": [
    "# grouping median house prices by size rank\n",
    "\n",
    "urban_housevalue = pd.DataFrame(new_df.groupby(\"SizeRank\")[\"median_houseprice\"].mean()\n",
    "                                .sort_values(ascending=False).head(5))"
   ]
  },
  {
   "cell_type": "code",
   "execution_count": 31,
   "metadata": {},
   "outputs": [
    {
     "data": {
      "image/png": "[encoded data removed]",
      "text/plain": [
       "<Figure size 1440x576 with 1 Axes>"
      ]
     },
     "metadata": {
      "needs_background": "light"
     },
     "output_type": "display_data"
    }
   ],
   "source": [
    "bar_plot(urban_housevalue)"
   ]
  },
  {
   "cell_type": "markdown",
   "metadata": {},
   "source": [
    "Size Rank represents urbanization from a rank 1 with 1 being the most urbanized area.\n",
    "From the plot analysis, highly urban areas do fetch high median house prices since sizeRank 273 (New York, New York) shows the highest median house \n",
    "price. Rank 21 and 22 also represent New York. Four out of the top five ranks are from New York state.\n",
    "So urbanization does not affect median house prices."
   ]
  },
  {
   "cell_type": "markdown",
   "metadata": {},
   "source": [
    "### 4.2. Which cities fetch the highest median house prices?"
   ]
  },
  {
   "cell_type": "code",
   "execution_count": null,
   "metadata": {},
   "outputs": [],
   "source": [
    "# exploring top ten cities with highest house prices\n",
    "\n",
    "houseprice_topcities = pd.DataFrame(new_df.groupby(\"City\")[\"median_houseprice\"].mean()\n",
    "                                    .sort_values(ascending=False).head(5))"
   ]
  },
  {
   "cell_type": "code",
   "execution_count": null,
   "metadata": {},
   "outputs": [],
   "source": [
    "ax = houseprice_topcities.plot(kind='bar', figsize=(20,10), color=\"green\", fontsize=13);\n",
    "ax.set_alpha(0.8)\n",
    "\n",
    "ax.set_title(\"Top Ten Median House Prices by Cities\", fontsize=26)\n",
    "ax.set_ylabel(\"Average Median House Price\", fontsize=20);\n",
    "ax.set_xlabel(\"Cities\", fontsize=20)\n",
    "plt.xticks(fontsize= 18)\n",
    "plt.savefig(\"output.jpg\")\n",
    "plt.show()"
   ]
  },
  {
   "cell_type": "markdown",
   "metadata": {},
   "source": [
    "The top three cities with the highest median house prices are Atherton (California), Palm Beach(Florida) and Snowmass Village\n",
    "(Colorado)."
   ]
  },
  {
   "cell_type": "markdown",
   "metadata": {},
   "source": [
    "### 4.3. What top 5 Zipcodes have the highest ROI?"
   ]
  },
  {
   "cell_type": "code",
   "execution_count": null,
   "metadata": {},
   "outputs": [],
   "source": [
    "ROI_topzipcodes = pd.DataFrame(df.groupby(\"Zipcode\")[\"ROI\"].mean().sort_values(ascending=False).head(5))\n"
   ]
  },
  {
   "cell_type": "code",
   "execution_count": null,
   "metadata": {},
   "outputs": [],
   "source": [
    "ax = ROI_topzipcodes.plot(kind='bar', figsize=(20,10), color=\"green\", fontsize=13);\n",
    "ax.set_alpha(0.8)\n",
    "\n",
    "ax.set_title(\"Zipcodes with the Highest ROI\", fontsize=26)\n",
    "ax.set_ylabel(\"Average ROI\", fontsize=20);\n",
    "ax.set_xlabel(\"Zipcodes\", fontsize=20)\n",
    "plt.xticks(fontsize= 18)\n",
    "plt.savefig(\"output.jpg\")\n",
    "plt.show()"
   ]
  },
  {
   "cell_type": "markdown",
   "metadata": {},
   "source": [
    "The zipcodes with the highest ROI are Upper East Side- New York(10021), Sea Island- Georgia State (31561), - Manhattan -New York(10014), Brooklyn\n",
    "New York(11217), and Hanalei- Hawaii (96714).\n",
    "\n",
    "From the plot, New York state has the most zipcodes with the highest ROI."
   ]
  },
  {
   "cell_type": "markdown",
   "metadata": {},
   "source": [
    "### 4.4. Which zipcodes have high price volatility?"
   ]
  },
  {
   "cell_type": "code",
   "execution_count": null,
   "metadata": {},
   "outputs": [],
   "source": [
    "CV_topzipcodes = pd.DataFrame(df.groupby(\"Zipcode\")[\"CV\"].mean().sort_values(ascending=False).head(5))"
   ]
  },
  {
   "cell_type": "code",
   "execution_count": null,
   "metadata": {},
   "outputs": [],
   "source": [
    "ax = CV_topzipcodes.plot(kind='bar', figsize=(20,10), color=\"green\", fontsize=13);\n",
    "ax.set_alpha(0.8)\n",
    "\n",
    "ax.set_title(\"Zipcodes with the Highest CV\", fontsize=26)\n",
    "ax.set_ylabel(\"Average CV\", fontsize=20);\n",
    "ax.set_xlabel(\"Zipcodes\", fontsize=20)\n",
    "plt.xticks(fontsize= 18)\n",
    "plt.savefig(\"output.jpg\")\n",
    "plt.show()"
   ]
  },
  {
   "cell_type": "markdown",
   "metadata": {},
   "source": [
    "The zipcodes with the highest price volatility are:\n",
    "- 02116\n",
    "   Boston- Massachusetts \n",
    "- 56041\n",
    "   New Ulm- Minnesota  \n",
    "- 16102\n",
    "   New Castle-Pennsylavia \n",
    "- 43103\n",
    "   Ohio-Colombus  \n",
    "- 31027\n",
    "   Dublin-Georgia "
   ]
  },
  {
   "cell_type": "markdown",
   "metadata": {},
   "source": [
    "### 4.5 What is the trend of median houseprices over the years?"
   ]
  },
  {
   "cell_type": "code",
   "execution_count": null,
   "metadata": {},
   "outputs": [],
   "source": [
    "new_df.median_houseprice.plot(figsize=(15,10), color=\"green\")\n",
    "minimum = new_df.groupby('Date').aggregate({'median_houseprice':'min'})\n",
    "maximum = new_df.groupby('Date').aggregate({'median_houseprice':'max'})\n",
    "mean = new_df.groupby('Date').aggregate({'median_houseprice':'mean'})\n",
    "plt.plot(minimum, color='red', label='Minimum')\n",
    "plt.plot(maximum, color='blue', label='Maximum')\n",
    "plt.plot(mean, color='yellow', label='Mean')\n",
    "plt.legend()\n",
    "plt.title('Home Values over time by Zip Code')\n",
    "plt.ylabel('median house prices')\n",
    "plt.show()"
   ]
  },
  {
   "cell_type": "code",
   "execution_count": null,
   "metadata": {},
   "outputs": [],
   "source": [
    "#new_df.resample('M', convention='end').asfreq()\n",
    "resampled = new_df.resample('M', level=0).sum()"
   ]
  },
  {
   "cell_type": "code",
   "execution_count": null,
   "metadata": {},
   "outputs": [],
   "source": [
    "resampled.median_houseprice.plot(figsize=(15,10), color=\"green\")\n",
    "plt.title('Home Values over time by Zip Code')\n",
    "plt.ylabel('median house prices')\n",
    "plt.show()"
   ]
  },
  {
   "cell_type": "code",
   "execution_count": null,
   "metadata": {},
   "outputs": [],
   "source": []
  }
 ],
 "metadata": {
  "colab": {
   "include_colab_link": true,
   "name": " Time-Series-Modeling-Forecasting-Zillow-Real-Estate-Prices.ipynb",
   "provenance": []
  },
  "kernelspec": {
   "display_name": "Python 3",
   "language": "python",
   "name": "python3"
  },
  "language_info": {
   "codemirror_mode": {
    "name": "ipython",
    "version": 3
   },
   "file_extension": ".py",
   "mimetype": "text/x-python",
   "name": "python",
   "nbconvert_exporter": "python",
   "pygments_lexer": "ipython3",
   "version": "3.8.5"
  },
  "toc": {
   "base_numbering": 1,
   "nav_menu": {},
   "number_sections": true,
   "sideBar": true,
   "skip_h1_title": false,
   "title_cell": "Table of Contents",
   "title_sidebar": "Contents",
   "toc_cell": false,
   "toc_position": {},
   "toc_section_display": true,
   "toc_window_display": false
  }
 },
 "nbformat": 4,
 "nbformat_minor": 1
}
